{
 "cells": [
  {
   "cell_type": "markdown",
   "metadata": {},
   "source": [
    "## Dicionário genérico\n",
    "\n",
    "Utilizamos um dicionário genérico, contando quantas vezes o caractere QS em específico aparece dentro do arquivo\n",
    "\n",
    "OBS: para executar no terminal, escrever: **python3 Dicionario_generico.py 'NOME DO ARQUIVO FASTQ'**\n",
    "É preciso importar as bibliotecas *fileinput* e *matplotlib.pyplot*, se não estiver instalado na máquina basta executar sudo apt-get install python3-'biblioteca_especifica'\n",
    "\n",
    "Para executar pelo python notebook sem dar erro, tive que adicionar o arquivo como file.input, mas se for executado em linha de comando é possível passar como parâmetro o arquivo.fastq"
   ]
  },
  {
   "cell_type": "code",
   "execution_count": 1,
   "metadata": {},
   "outputs": [
    {
     "name": "stdout",
     "output_type": "stream",
     "text": [
      "{'!': 0, '\"': 0, '#': 5111, '$': 0, '%': 0, '&': 0, \"'\": 2, '(': 33, '|': 0, '*': 26, '+': 18, ',': 1, '-': 3, '.': 14, '/': 8, '0': 20, '1': 17, '2': 11, '3': 49, '4': 42, '5': 18, '6': 19, '7': 47, '8': 47, '9': 45, ':': 90, ';': 132, '<': 74, '=': 107, '?': 168, '@': 269, 'A': 165, 'B': 206, 'C': 395, 'D': 251, 'E': 223, 'F': 460, 'G': 475, 'H': 447, 'I': 477, 'J': 323}\n"
     ]
    },
    {
     "data": {
      "image/png": "[encoded data removed]",
      "text/plain": [
       "<Figure size 432x288 with 1 Axes>"
      ]
     },
     "metadata": {
      "needs_background": "light"
     },
     "output_type": "display_data"
    }
   ],
   "source": [
    "import fileinput\n",
    "import matplotlib.pyplot as plot\n",
    "import os\n",
    "\n",
    "#The dictionary with all the QS values [33, 74]\n",
    "dictionary = {'!':0, '\"':0, '#':0, '$':0, '%':0, '&':0, \"'\":0, '(':0, '|':0, '*':0,\n",
    " \t\t\t  '+':0, ',':0, '-':0, '.':0, '/':0, '0':0, '1':0, '2':0, '3':0, '4':0,\n",
    " \t\t\t  '5':0, '6':0, '7':0, '8':0, '9':0, ':':0, ';':0, '<':0, '=':0, '?':0,\n",
    " \t\t\t  '?':0, '@':0, 'A':0, 'B':0, 'C':0, 'D':0, 'E':0, 'F':0, 'G':0, 'H':0,\n",
    " \t\t\t  'I':0, 'J':0,}\n",
    "\n",
    "def main():\n",
    "\t#start the line counter\n",
    "\tline_count = 0\n",
    "\t#get every line from the file readed\n",
    "\tfor line in fileinput.input(\"SRR618664_1_100.fastq\"):\n",
    "\t\t#increment the line counter\n",
    "\t\tline_count += 1\n",
    "\t\t#if the line is the QS line, then\n",
    "\t\tif line_count == 4:\n",
    "\t\t\t#get every character from that line\n",
    "\t\t\tfor i in range(0,len(line),1):\n",
    "\t\t\t\tkey = line[i]\n",
    "\t\t\t\t#if the character is a key from the dictionary, then increment it value\n",
    "\t\t\t\tif key in dictionary:\n",
    "\t\t\t\t\tdictionary[key] +=1\n",
    "\n",
    "\t\t\tline_count = 0\n",
    "\t\t\n",
    "\tprint(dictionary)\n",
    "\t#plot the graphic\n",
    "\tplot.bar(range(len(dictionary)), list(dictionary.values()), align='center')\n",
    "\tplot.xticks(range(len(dictionary)), list(dictionary.keys()))\n",
    "\tplot.show()\n",
    "\n",
    "main()\n"
   ]
  },
  {
   "cell_type": "code",
   "execution_count": null,
   "metadata": {},
   "outputs": [],
   "source": []
  }
 ],
 "metadata": {
  "kernelspec": {
   "display_name": "Python 3",
   "language": "python",
   "name": "python3"
  },
  "language_info": {
   "codemirror_mode": {
    "name": "ipython",
    "version": 3
   },
   "file_extension": ".py",
   "mimetype": "text/x-python",
   "name": "python",
   "nbconvert_exporter": "python",
   "pygments_lexer": "ipython3",
   "version": "3.7.6"
  }
 },
 "nbformat": 4,
 "nbformat_minor": 4
}
